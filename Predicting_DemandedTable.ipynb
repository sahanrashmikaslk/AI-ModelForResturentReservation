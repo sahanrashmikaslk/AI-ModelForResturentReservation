{
 "cells": [
  {
   "cell_type": "markdown",
   "metadata": {},
   "source": [
    "# To create an AI model for predicting high head count based on generated dummy data for a resturent reservation system\n",
    "\n",
    "### Step 1: Create Dummy Data\n",
    "\n",
    "Reservation Table Schema:\n",
    "\n",
    "- resevstion_id: Unique identifier for the reservation\n",
    "- unit_id: Unique identifier for the table\n",
    "- unit_type: Type of the table\n",
    "- date: Date of the reservation\n",
    "- head_count: Number of people in the reservation\n",
    "- host_user: Unique identifier for the host\n",
    "- option1: Option 1\n",
    "- option2: Option 2\n",
    "- prop_id: Unique identifier for the property\n",
    "- reserve_code: Reservation code\n",
    "- slot_minutes: Slot minutes\n",
    "- special_req: Special request\n",
    "- status: Status of the reservation\n",
    "- time: Time of the reservation\n",
    "- time_slots: Time slots\n",
    "- user_id: Unique identifier for the user\n"
   ]
  },
  {
   "cell_type": "code",
   "execution_count": 124,
   "metadata": {},
   "outputs": [
    {
     "name": "stdout",
     "output_type": "stream",
     "text": [
      "Dummy dataset generated and saved to 'dummy_reservations.csv'\n",
      "   reservation_id  unit_id unit_type       date  head_count  host_user  \\\n",
      "0               1       69     type3 2023-10-03         106     687005   \n",
      "1               2       46     type3 2023-04-21          37     362018   \n",
      "2               3       93     type2 2023-06-19         123     794591   \n",
      "3               4       25     type4 2023-11-24          80     781055   \n",
      "4               5       18     type4 2023-08-28         102     728605   \n",
      "\n",
      "  option1 option2  prop_id  reserve_code  slot_length  slot_minutes  \\\n",
      "0    None    None       97             2           10            30   \n",
      "1    None    None       82             1           15            60   \n",
      "2    None    None       76             2           10            30   \n",
      "3    None    None       74             1           10            90   \n",
      "4    None    None        1             4           10            90   \n",
      "\n",
      "  special_req     status      time  time_slots  user_id  \n",
      "0      Booked  Cancelled  10:00:00           2     9575  \n",
      "1     Pending  Cancelled  16:00:00           1     9108  \n",
      "2      Booked  Cancelled  16:00:00           2     1264  \n",
      "3   Confirmed     Booked  19:00:00           1     8981  \n",
      "4      Booked     Booked  14:00:00           3     4738  \n"
     ]
    }
   ],
   "source": [
    "import pandas as pd\n",
    "import numpy as np\n",
    "from datetime import datetime, timedelta\n",
    "import random\n",
    "\n",
    "# Number of rows for the dummy dataset\n",
    "num_rows = 100\n",
    "\n",
    "# Generate random dates within a specific range\n",
    "start_date = datetime(2023, 1, 1)\n",
    "end_date = start_date + timedelta(days=365)\n",
    "date_range = pd.date_range(start_date, end_date).to_pydatetime().tolist()\n",
    "\n",
    "# Generate random times\n",
    "time_range = pd.date_range(\"08:00\", \"21:00\", freq=\"H\").time\n",
    "\n",
    "dummy_data = {\n",
    "    'reservation_id': np.arange(1, num_rows + 1),\n",
    "    'unit_id': np.random.randint(1, 100, size=num_rows),\n",
    "    'unit_type': np.random.choice(['type1', 'type2', 'type3', 'type4'], size=num_rows),\n",
    "    'date': np.random.choice(date_range, size=num_rows),\n",
    "    'head_count': np.random.randint(1, 150, size=num_rows),\n",
    "    'host_user': np.random.randint(100000, 999999, size=num_rows),\n",
    "    'option1': [None] * num_rows,\n",
    "    'option2': [None] * num_rows,\n",
    "    'prop_id': np.random.randint(1, 100, size=num_rows),\n",
    "    'reserve_code': np.random.randint(1, 5, size=num_rows),\n",
    "    'slot_length': np.random.choice([10, 15, 20], size=num_rows),\n",
    "    'slot_minutes': np.random.choice([30, 60, 90], size=num_rows),\n",
    "    'special_req': np.random.choice(['None', 'Confirmed', 'Pending', 'Booked'], size=num_rows),\n",
    "    'status': np.random.choice(['Booked', 'Pending', 'Cancelled'], size=num_rows),\n",
    "    'time': [random.choice(time_range) for _ in range(num_rows)],\n",
    "    'time_slots': np.random.choice([1, 2, 3], size=num_rows),\n",
    "    'user_id': np.random.randint(1000, 9999, size=num_rows)\n",
    "}\n",
    "\n",
    "# Create a DataFrame\n",
    "dummy_df = pd.DataFrame(dummy_data)\n",
    "\n",
    "# Save the DataFrame to a CSV file\n",
    "dummy_df.to_csv('dummy_reservations.csv', index=False)\n",
    "\n",
    "print(\"Dummy dataset generated and saved to 'dummy_reservations.csv'\")\n",
    "print(dummy_df.head())\n"
   ]
  },
  {
   "cell_type": "markdown",
   "metadata": {},
   "source": [
    "### Step 2: Create AI Model Using Reservation Table\n"
   ]
  },
  {
   "cell_type": "code",
   "execution_count": 125,
   "metadata": {},
   "outputs": [
    {
     "name": "stdout",
     "output_type": "stream",
     "text": [
      "   reservation_id  unit_id unit_type        date  head_count  host_user  \\\n",
      "0               1       69     type3  2023-10-03         106     687005   \n",
      "1               2       46     type3  2023-04-21          37     362018   \n",
      "2               3       93     type2  2023-06-19         123     794591   \n",
      "3               4       25     type4  2023-11-24          80     781055   \n",
      "4               5       18     type4  2023-08-28         102     728605   \n",
      "\n",
      "   option1  option2  prop_id  reserve_code  slot_length  slot_minutes  \\\n",
      "0      NaN      NaN       97             2           10            30   \n",
      "1      NaN      NaN       82             1           15            60   \n",
      "2      NaN      NaN       76             2           10            30   \n",
      "3      NaN      NaN       74             1           10            90   \n",
      "4      NaN      NaN        1             4           10            90   \n",
      "\n",
      "  special_req     status      time  time_slots  user_id  \n",
      "0      Booked  Cancelled  10:00:00           2     9575  \n",
      "1     Pending  Cancelled  16:00:00           1     9108  \n",
      "2      Booked  Cancelled  16:00:00           2     1264  \n",
      "3   Confirmed     Booked  19:00:00           1     8981  \n",
      "4      Booked     Booked  14:00:00           3     4738  \n"
     ]
    }
   ],
   "source": [
    "# Step 1: Load the Data\n",
    "# Load the dummy data from the CSV file.\n",
    "\n",
    "dummy_df = pd.read_csv('dummy_reservations.csv')\n",
    "print(dummy_df.head())\n"
   ]
  },
  {
   "cell_type": "code",
   "execution_count": 126,
   "metadata": {},
   "outputs": [
    {
     "data": {
      "text/plain": [
       "(100, 17)"
      ]
     },
     "execution_count": 126,
     "metadata": {},
     "output_type": "execute_result"
    }
   ],
   "source": [
    "dummy_df.shape"
   ]
  },
  {
   "cell_type": "code",
   "execution_count": 127,
   "metadata": {},
   "outputs": [
    {
     "data": {
      "text/plain": [
       "reservation_id      0\n",
       "unit_id             0\n",
       "unit_type           0\n",
       "date                0\n",
       "head_count          0\n",
       "host_user           0\n",
       "option1           100\n",
       "option2           100\n",
       "prop_id             0\n",
       "reserve_code        0\n",
       "slot_length         0\n",
       "slot_minutes        0\n",
       "special_req        24\n",
       "status              0\n",
       "time                0\n",
       "time_slots          0\n",
       "user_id             0\n",
       "dtype: int64"
      ]
     },
     "execution_count": 127,
     "metadata": {},
     "output_type": "execute_result"
    }
   ],
   "source": [
    "#Step 2: data preprocessing\n",
    "# Check for missing values in the dataset.\n",
    "\n",
    "dummy_df.isnull().sum()"
   ]
  },
  {
   "cell_type": "code",
   "execution_count": 128,
   "metadata": {},
   "outputs": [
    {
     "data": {
      "text/plain": [
       "<Axes: >"
      ]
     },
     "execution_count": 128,
     "metadata": {},
     "output_type": "execute_result"
    },
    {
     "data": {
      "image/png": "[encoded data removed]",
      "text/plain": [
       "<Figure size 640x480 with 1 Axes>"
      ]
     },
     "metadata": {},
     "output_type": "display_data"
    }
   ],
   "source": [
    "import seaborn as sns\n",
    "sns.heatmap(dummy_df.isnull(), cbar=False)"
   ]
  },
  {
   "cell_type": "code",
   "execution_count": 129,
   "metadata": {},
   "outputs": [],
   "source": [
    "# drop the columns with missing values\n",
    "dummy_df = dummy_df.dropna(axis=1)\n",
    "\n"
   ]
  },
  {
   "cell_type": "code",
   "execution_count": 130,
   "metadata": {},
   "outputs": [
    {
     "data": {
      "text/plain": [
       "<Axes: >"
      ]
     },
     "execution_count": 130,
     "metadata": {},
     "output_type": "execute_result"
    },
    {
     "data": {
      "image/png": "[encoded data removed]",
      "text/plain": [
       "<Figure size 640x480 with 1 Axes>"
      ]
     },
     "metadata": {},
     "output_type": "display_data"
    }
   ],
   "source": [
    "sns.heatmap(dummy_df.isnull(), cbar=False)\n"
   ]
  },
  {
   "cell_type": "code",
   "execution_count": 131,
   "metadata": {},
   "outputs": [
    {
     "name": "stdout",
     "output_type": "stream",
     "text": [
      "Empty DataFrame\n",
      "Columns: [reservation_id, unit_id, unit_type, date, head_count, host_user, prop_id, reserve_code, slot_length, slot_minutes, status, time, time_slots, user_id]\n",
      "Index: []\n"
     ]
    }
   ],
   "source": [
    "# Check for duplicate rows in the dataset.\n",
    "\n",
    "duplicate_rows = dummy_df[dummy_df.duplicated()]\n",
    "print(duplicate_rows)\n"
   ]
  },
  {
   "cell_type": "code",
   "execution_count": 134,
   "metadata": {},
   "outputs": [
    {
     "data": {
      "text/plain": [
       "reservation_id    0\n",
       "unit_id           0\n",
       "unit_type         0\n",
       "date              0\n",
       "head_count        0\n",
       "host_user         0\n",
       "prop_id           0\n",
       "reserve_code      0\n",
       "slot_length       0\n",
       "slot_minutes      0\n",
       "status            0\n",
       "time              0\n",
       "time_slots        0\n",
       "user_id           0\n",
       "dtype: int64"
      ]
     },
     "execution_count": 134,
     "metadata": {},
     "output_type": "execute_result"
    }
   ],
   "source": [
    "# Check for any missing values in the dataset.\n",
    "\n",
    "dummy_df.isnull().sum()\n"
   ]
  },
  {
   "cell_type": "code",
   "execution_count": 135,
   "metadata": {},
   "outputs": [
    {
     "data": {
      "text/plain": [
       "reservation_id     int64\n",
       "unit_id            int64\n",
       "unit_type         object\n",
       "date              object\n",
       "head_count         int64\n",
       "host_user          int64\n",
       "prop_id            int64\n",
       "reserve_code       int64\n",
       "slot_length        int64\n",
       "slot_minutes       int64\n",
       "status            object\n",
       "time              object\n",
       "time_slots         int64\n",
       "user_id            int64\n",
       "dtype: object"
      ]
     },
     "execution_count": 135,
     "metadata": {},
     "output_type": "execute_result"
    }
   ],
   "source": [
    "# Check the data types of the columns in the dataset.\n",
    "\n",
    "dummy_df.dtypes\n"
   ]
  },
  {
   "cell_type": "code",
   "execution_count": 138,
   "metadata": {},
   "outputs": [
    {
     "data": {
      "text/html": [
       "<div>\n",
       "<style scoped>\n",
       "    .dataframe tbody tr th:only-of-type {\n",
       "        vertical-align: middle;\n",
       "    }\n",
       "\n",
       "    .dataframe tbody tr th {\n",
       "        vertical-align: top;\n",
       "    }\n",
       "\n",
       "    .dataframe thead th {\n",
       "        text-align: right;\n",
       "    }\n",
       "</style>\n",
       "<table border=\"1\" class=\"dataframe\">\n",
       "  <thead>\n",
       "    <tr style=\"text-align: right;\">\n",
       "      <th></th>\n",
       "      <th>reservation_id</th>\n",
       "      <th>unit_id</th>\n",
       "      <th>unit_type</th>\n",
       "      <th>date</th>\n",
       "      <th>head_count</th>\n",
       "      <th>host_user</th>\n",
       "      <th>prop_id</th>\n",
       "      <th>reserve_code</th>\n",
       "      <th>slot_length</th>\n",
       "      <th>slot_minutes</th>\n",
       "      <th>status</th>\n",
       "      <th>time</th>\n",
       "      <th>time_slots</th>\n",
       "      <th>user_id</th>\n",
       "    </tr>\n",
       "  </thead>\n",
       "  <tbody>\n",
       "    <tr>\n",
       "      <th>0</th>\n",
       "      <td>1</td>\n",
       "      <td>69</td>\n",
       "      <td>type3</td>\n",
       "      <td>2023-10-03</td>\n",
       "      <td>106</td>\n",
       "      <td>687005</td>\n",
       "      <td>97</td>\n",
       "      <td>2</td>\n",
       "      <td>10</td>\n",
       "      <td>30</td>\n",
       "      <td>Cancelled</td>\n",
       "      <td>10:00:00</td>\n",
       "      <td>2</td>\n",
       "      <td>9575</td>\n",
       "    </tr>\n",
       "    <tr>\n",
       "      <th>1</th>\n",
       "      <td>2</td>\n",
       "      <td>46</td>\n",
       "      <td>type3</td>\n",
       "      <td>2023-04-21</td>\n",
       "      <td>37</td>\n",
       "      <td>362018</td>\n",
       "      <td>82</td>\n",
       "      <td>1</td>\n",
       "      <td>15</td>\n",
       "      <td>60</td>\n",
       "      <td>Cancelled</td>\n",
       "      <td>16:00:00</td>\n",
       "      <td>1</td>\n",
       "      <td>9108</td>\n",
       "    </tr>\n",
       "    <tr>\n",
       "      <th>2</th>\n",
       "      <td>3</td>\n",
       "      <td>93</td>\n",
       "      <td>type2</td>\n",
       "      <td>2023-06-19</td>\n",
       "      <td>123</td>\n",
       "      <td>794591</td>\n",
       "      <td>76</td>\n",
       "      <td>2</td>\n",
       "      <td>10</td>\n",
       "      <td>30</td>\n",
       "      <td>Cancelled</td>\n",
       "      <td>16:00:00</td>\n",
       "      <td>2</td>\n",
       "      <td>1264</td>\n",
       "    </tr>\n",
       "    <tr>\n",
       "      <th>3</th>\n",
       "      <td>4</td>\n",
       "      <td>25</td>\n",
       "      <td>type4</td>\n",
       "      <td>2023-11-24</td>\n",
       "      <td>80</td>\n",
       "      <td>781055</td>\n",
       "      <td>74</td>\n",
       "      <td>1</td>\n",
       "      <td>10</td>\n",
       "      <td>90</td>\n",
       "      <td>Booked</td>\n",
       "      <td>19:00:00</td>\n",
       "      <td>1</td>\n",
       "      <td>8981</td>\n",
       "    </tr>\n",
       "    <tr>\n",
       "      <th>4</th>\n",
       "      <td>5</td>\n",
       "      <td>18</td>\n",
       "      <td>type4</td>\n",
       "      <td>2023-08-28</td>\n",
       "      <td>102</td>\n",
       "      <td>728605</td>\n",
       "      <td>1</td>\n",
       "      <td>4</td>\n",
       "      <td>10</td>\n",
       "      <td>90</td>\n",
       "      <td>Booked</td>\n",
       "      <td>14:00:00</td>\n",
       "      <td>3</td>\n",
       "      <td>4738</td>\n",
       "    </tr>\n",
       "  </tbody>\n",
       "</table>\n",
       "</div>"
      ],
      "text/plain": [
       "   reservation_id  unit_id unit_type        date  head_count  host_user  \\\n",
       "0               1       69     type3  2023-10-03         106     687005   \n",
       "1               2       46     type3  2023-04-21          37     362018   \n",
       "2               3       93     type2  2023-06-19         123     794591   \n",
       "3               4       25     type4  2023-11-24          80     781055   \n",
       "4               5       18     type4  2023-08-28         102     728605   \n",
       "\n",
       "   prop_id  reserve_code  slot_length  slot_minutes     status      time  \\\n",
       "0       97             2           10            30  Cancelled  10:00:00   \n",
       "1       82             1           15            60  Cancelled  16:00:00   \n",
       "2       76             2           10            30  Cancelled  16:00:00   \n",
       "3       74             1           10            90     Booked  19:00:00   \n",
       "4        1             4           10            90     Booked  14:00:00   \n",
       "\n",
       "   time_slots  user_id  \n",
       "0           2     9575  \n",
       "1           1     9108  \n",
       "2           2     1264  \n",
       "3           1     8981  \n",
       "4           3     4738  "
      ]
     },
     "execution_count": 138,
     "metadata": {},
     "output_type": "execute_result"
    }
   ],
   "source": [
    "# Display the first few rows of the dataset.\n",
    "\n",
    "dummy_df.head()\n"
   ]
  },
  {
   "cell_type": "code",
   "execution_count": 139,
   "metadata": {},
   "outputs": [
    {
     "name": "stdout",
     "output_type": "stream",
     "text": [
      "   reservation_id  unit_id  unit_type       date  head_count  host_user  \\\n",
      "0               1       69          2 2023-10-03         106     687005   \n",
      "1               2       46          2 2023-04-21          37     362018   \n",
      "2               3       93          1 2023-06-19         123     794591   \n",
      "3               4       25          3 2023-11-24          80     781055   \n",
      "4               5       18          3 2023-08-28         102     728605   \n",
      "\n",
      "   prop_id  reserve_code  slot_length  slot_minutes  status      time  \\\n",
      "0       97             2           10            30       1  10:00:00   \n",
      "1       82             1           15            60       1  16:00:00   \n",
      "2       76             2           10            30       1  16:00:00   \n",
      "3       74             1           10            90       0  19:00:00   \n",
      "4        1             4           10            90       0  14:00:00   \n",
      "\n",
      "   time_slots  user_id  day  month  hour  \n",
      "0           2     9575    3     10    10  \n",
      "1           1     9108   21      4    16  \n",
      "2           2     1264   19      6    16  \n",
      "3           1     8981   24     11    19  \n",
      "4           3     4738   28      8    14  \n"
     ]
    }
   ],
   "source": [
    "# Step 3: Preprocess the Data\n",
    "\n",
    "# This step includes converting date and time columns to the appropriate formats, extracting new features from them, and encoding categorical variables.\n",
    "\n",
    "\n",
    "from sklearn.preprocessing import LabelEncoder\n",
    "\n",
    "def preprocess_data(df):\n",
    "    # Convert date and time to datetime\n",
    "    df['date'] = pd.to_datetime(df['date'])\n",
    "    df['time'] = pd.to_datetime(df['time'], format='%H:%M:%S').dt.time\n",
    "    \n",
    "    # Extract features from date and time\n",
    "    df['day'] = df['date'].dt.day\n",
    "    df['month'] = df['date'].dt.month\n",
    "    df['hour'] = pd.to_datetime(df['time'], format='%H:%M:%S').dt.hour\n",
    "    \n",
    "    # Encode categorical variables\n",
    "    le_unit_type = LabelEncoder()\n",
    "    df['unit_type'] = le_unit_type.fit_transform(df['unit_type'])\n",
    "    \n",
    "    le_status = LabelEncoder()\n",
    "    df['status'] = le_status.fit_transform(df['status'])\n",
    "    \n",
    "\n",
    "    \n",
    "    return df, le_unit_type, le_status\n",
    "\n",
    "# Preprocess data\n",
    "dummy_df, le_unit_type, le_status = preprocess_data(dummy_df)\n",
    "print(dummy_df.head())\n",
    "\n",
    "\n",
    "\n",
    "\n",
    "\n",
    "\n",
    "\n"
   ]
  },
  {
   "cell_type": "code",
   "execution_count": 140,
   "metadata": {},
   "outputs": [
    {
     "name": "stdout",
     "output_type": "stream",
     "text": [
      "   reservation_id  unit_id  unit_type       date  head_count  host_user  \\\n",
      "0               1       69          2 2023-10-03         106     687005   \n",
      "1               2       46          2 2023-04-21          37     362018   \n",
      "2               3       93          1 2023-06-19         123     794591   \n",
      "3               4       25          3 2023-11-24          80     781055   \n",
      "4               5       18          3 2023-08-28         102     728605   \n",
      "\n",
      "   prop_id  reserve_code  slot_length  slot_minutes  status      time  \\\n",
      "0       97             2           10            30       1  10:00:00   \n",
      "1       82             1           15            60       1  16:00:00   \n",
      "2       76             2           10            30       1  16:00:00   \n",
      "3       74             1           10            90       0  19:00:00   \n",
      "4        1             4           10            90       0  14:00:00   \n",
      "\n",
      "   time_slots  user_id  day  month  hour  total_slots  total_minutes  \\\n",
      "0           2     9575    3     10    10           20             60   \n",
      "1           1     9108   21      4    16           15             60   \n",
      "2           2     1264   19      6    16           20             60   \n",
      "3           1     8981   24     11    19           10             90   \n",
      "4           3     4738   28      8    14           30            270   \n",
      "\n",
      "   day_of_week  \n",
      "0            1  \n",
      "1            4  \n",
      "2            0  \n",
      "3            4  \n",
      "4            0  \n"
     ]
    }
   ],
   "source": [
    "# Step 4: Feature Engineering\n",
    "\n",
    "# This step involves creating new features from the existing ones to improve the model's performance.\n",
    "\n",
    "def create_features(df):\n",
    "    # Create a new feature 'total_slots' by multiplying 'time_slots' and 'slot_length'\n",
    "    df['total_slots'] = df['time_slots'] * df['slot_length']\n",
    "    \n",
    "    # Create a new feature 'total_minutes' by multiplying 'time_slots' and 'slot_minutes'\n",
    "    df['total_minutes'] = df['time_slots'] * df['slot_minutes']\n",
    "\n",
    "    # need to get the day of the week\n",
    "    df['day_of_week'] = df['date'].dt.dayofweek\n",
    "\n",
    "    return df\n",
    "\n",
    "# Create new features\n",
    "dummy_df = create_features(dummy_df)\n",
    "print(dummy_df.head())\n"
   ]
  },
  {
   "cell_type": "code",
   "execution_count": 141,
   "metadata": {},
   "outputs": [
    {
     "name": "stdout",
     "output_type": "stream",
     "text": [
      "Training set shape: (80, 15) (80,)\n",
      "Testing set shape: (20, 15) (20,)\n"
     ]
    }
   ],
   "source": [
    "# Step 5: Split the Data\n",
    "\n",
    "# This step involves splitting the dataset into training and testing sets.\n",
    "\n",
    "from sklearn.model_selection import train_test_split\n",
    "\n",
    "# Split the data into features and target variable\n",
    "\n",
    "x_head_count = dummy_df[['unit_id', 'unit_type', 'host_user', 'prop_id', 'reserve_code', 'slot_length', 'slot_minutes', 'time_slots', 'user_id', 'day', 'month', 'hour', 'total_slots', 'total_minutes', 'day_of_week']]\n",
    "y_head_count = dummy_df['head_count']\n",
    "\n",
    "# Split the data into training and testing sets\n",
    "x_train, x_test, y_train, y_test = train_test_split(x_head_count, y_head_count, test_size=0.2, random_state=42)\n",
    "\n",
    "print(\"Training set shape:\", x_train.shape, y_train.shape)\n",
    "print(\"Testing set shape:\", x_test.shape, y_test.shape)\n",
    "\n",
    "\n"
   ]
  },
  {
   "cell_type": "code",
   "execution_count": 142,
   "metadata": {},
   "outputs": [
    {
     "data": {
      "text/html": [
       "<style>#sk-container-id-5 {color: black;}#sk-container-id-5 pre{padding: 0;}#sk-container-id-5 div.sk-toggleable {background-color: white;}#sk-container-id-5 label.sk-toggleable__label {cursor: pointer;display: block;width: 100%;margin-bottom: 0;padding: 0.3em;box-sizing: border-box;text-align: center;}#sk-container-id-5 label.sk-toggleable__label-arrow:before {content: \"▸\";float: left;margin-right: 0.25em;color: #696969;}#sk-container-id-5 label.sk-toggleable__label-arrow:hover:before {color: black;}#sk-container-id-5 div.sk-estimator:hover label.sk-toggleable__label-arrow:before {color: black;}#sk-container-id-5 div.sk-toggleable__content {max-height: 0;max-width: 0;overflow: hidden;text-align: left;background-color: #f0f8ff;}#sk-container-id-5 div.sk-toggleable__content pre {margin: 0.2em;color: black;border-radius: 0.25em;background-color: #f0f8ff;}#sk-container-id-5 input.sk-toggleable__control:checked~div.sk-toggleable__content {max-height: 200px;max-width: 100%;overflow: auto;}#sk-container-id-5 input.sk-toggleable__control:checked~label.sk-toggleable__label-arrow:before {content: \"▾\";}#sk-container-id-5 div.sk-estimator input.sk-toggleable__control:checked~label.sk-toggleable__label {background-color: #d4ebff;}#sk-container-id-5 div.sk-label input.sk-toggleable__control:checked~label.sk-toggleable__label {background-color: #d4ebff;}#sk-container-id-5 input.sk-hidden--visually {border: 0;clip: rect(1px 1px 1px 1px);clip: rect(1px, 1px, 1px, 1px);height: 1px;margin: -1px;overflow: hidden;padding: 0;position: absolute;width: 1px;}#sk-container-id-5 div.sk-estimator {font-family: monospace;background-color: #f0f8ff;border: 1px dotted black;border-radius: 0.25em;box-sizing: border-box;margin-bottom: 0.5em;}#sk-container-id-5 div.sk-estimator:hover {background-color: #d4ebff;}#sk-container-id-5 div.sk-parallel-item::after {content: \"\";width: 100%;border-bottom: 1px solid gray;flex-grow: 1;}#sk-container-id-5 div.sk-label:hover label.sk-toggleable__label {background-color: #d4ebff;}#sk-container-id-5 div.sk-serial::before {content: \"\";position: absolute;border-left: 1px solid gray;box-sizing: border-box;top: 0;bottom: 0;left: 50%;z-index: 0;}#sk-container-id-5 div.sk-serial {display: flex;flex-direction: column;align-items: center;background-color: white;padding-right: 0.2em;padding-left: 0.2em;position: relative;}#sk-container-id-5 div.sk-item {position: relative;z-index: 1;}#sk-container-id-5 div.sk-parallel {display: flex;align-items: stretch;justify-content: center;background-color: white;position: relative;}#sk-container-id-5 div.sk-item::before, #sk-container-id-5 div.sk-parallel-item::before {content: \"\";position: absolute;border-left: 1px solid gray;box-sizing: border-box;top: 0;bottom: 0;left: 50%;z-index: -1;}#sk-container-id-5 div.sk-parallel-item {display: flex;flex-direction: column;z-index: 1;position: relative;background-color: white;}#sk-container-id-5 div.sk-parallel-item:first-child::after {align-self: flex-end;width: 50%;}#sk-container-id-5 div.sk-parallel-item:last-child::after {align-self: flex-start;width: 50%;}#sk-container-id-5 div.sk-parallel-item:only-child::after {width: 0;}#sk-container-id-5 div.sk-dashed-wrapped {border: 1px dashed gray;margin: 0 0.4em 0.5em 0.4em;box-sizing: border-box;padding-bottom: 0.4em;background-color: white;}#sk-container-id-5 div.sk-label label {font-family: monospace;font-weight: bold;display: inline-block;line-height: 1.2em;}#sk-container-id-5 div.sk-label-container {text-align: center;}#sk-container-id-5 div.sk-container {/* jupyter's `normalize.less` sets `[hidden] { display: none; }` but bootstrap.min.css set `[hidden] { display: none !important; }` so we also need the `!important` here to be able to override the default hidden behavior on the sphinx rendered scikit-learn.org. See: https://github.com/scikit-learn/scikit-learn/issues/21755 */display: inline-block !important;position: relative;}#sk-container-id-5 div.sk-text-repr-fallback {display: none;}</style><div id=\"sk-container-id-5\" class=\"sk-top-container\"><div class=\"sk-text-repr-fallback\"><pre>RandomForestRegressor(random_state=42)</pre><b>In a Jupyter environment, please rerun this cell to show the HTML representation or trust the notebook. <br />On GitHub, the HTML representation is unable to render, please try loading this page with nbviewer.org.</b></div><div class=\"sk-container\" hidden><div class=\"sk-item\"><div class=\"sk-estimator sk-toggleable\"><input class=\"sk-toggleable__control sk-hidden--visually\" id=\"sk-estimator-id-5\" type=\"checkbox\" checked><label for=\"sk-estimator-id-5\" class=\"sk-toggleable__label sk-toggleable__label-arrow\">RandomForestRegressor</label><div class=\"sk-toggleable__content\"><pre>RandomForestRegressor(random_state=42)</pre></div></div></div></div></div>"
      ],
      "text/plain": [
       "RandomForestRegressor(random_state=42)"
      ]
     },
     "execution_count": 142,
     "metadata": {},
     "output_type": "execute_result"
    }
   ],
   "source": [
    "# Step 6: Train a Model ( RandomForestRegressor)\n",
    "\n",
    "# This step involves training a machine learning model on the training data.\n",
    "\n",
    "from sklearn.ensemble import RandomForestRegressor\n",
    "\n",
    "# Initialize the model\n",
    "rf_model = RandomForestRegressor(n_estimators=100, random_state=42)\n",
    "\n",
    "# Train the model\n",
    "rf_model.fit(x_train, y_train)\n"
   ]
  },
  {
   "cell_type": "code",
   "execution_count": 143,
   "metadata": {},
   "outputs": [
    {
     "name": "stdout",
     "output_type": "stream",
     "text": [
      "Training Accuracy: 0.0375\n",
      "Testing Accuracy: 0.0\n"
     ]
    }
   ],
   "source": [
    "# Step 7: Predict the Head Count\n",
    "\n",
    "# This step involves making predictions on the test data using the trained model.\n",
    "\n",
    "# Make predictions on the test data\n",
    "y_test = y_test.astype(int)\n",
    "y_pred = rf_model.predict(x_test).astype(int)\n",
    "\n",
    "# Confusion matrix and accuracy for the model\n",
    "from sklearn.metrics import confusion_matrix, accuracy_score\n",
    "\n",
    "y_train = y_train.astype(int)\n",
    "y_pred_train = rf_model.predict(x_train).astype(int)\n",
    "\n",
    "print(\"Training Accuracy:\", accuracy_score(y_train, y_pred_train))\n",
    "print(\"Testing Accuracy:\", accuracy_score(y_test, y_pred))\n"
   ]
  },
  {
   "cell_type": "markdown",
   "metadata": {},
   "source": [
    "### Step 3: Evaluate the Model\n"
   ]
  },
  {
   "cell_type": "code",
   "execution_count": 144,
   "metadata": {},
   "outputs": [
    {
     "name": "stdout",
     "output_type": "stream",
     "text": [
      "Mean Squared Error: 2159.0\n",
      "R-squared Value: -0.1818415708256469\n"
     ]
    }
   ],
   "source": [
    "\n",
    "\n",
    "# This step involves evaluating the model's performance using various metrics.\n",
    "\n",
    "from sklearn.metrics import mean_squared_error, r2_score\n",
    "\n",
    "# Calculate the Mean Squared Error\n",
    "mse = mean_squared_error(y_test, y_pred)\n",
    "print(\"Mean Squared Error:\", mse)\n",
    "\n",
    "# Calculate the R-squared value\n",
    "r2 = r2_score(y_test, y_pred)\n",
    "print(\"R-squared Value:\", r2)\n",
    "\n"
   ]
  },
  {
   "cell_type": "markdown",
   "metadata": {},
   "source": [
    "### Step 3: Save the Model as a Pickle File\n"
   ]
  },
  {
   "cell_type": "code",
   "execution_count": 145,
   "metadata": {},
   "outputs": [
    {
     "name": "stdout",
     "output_type": "stream",
     "text": [
      "Model saved to: head_count_prediction_model.pkl\n"
     ]
    }
   ],
   "source": [
    "\n",
    "\n",
    "# This step involves saving the trained model to a file for future use.\n",
    "\n",
    "import pickle\n",
    "\n",
    "# Save the model to a file\n",
    "model_file = 'head_count_prediction_model.pkl'\n",
    "with open(model_file, 'wb') as file:\n",
    "    pickle.dump(rf_model, file)\n",
    "\n",
    "print(\"Model saved to:\", model_file)\n",
    "\n"
   ]
  },
  {
   "cell_type": "markdown",
   "metadata": {},
   "source": [
    "### Step 4: Creating flask API\n"
   ]
  },
  {
   "cell_type": "code",
   "execution_count": null,
   "metadata": {},
   "outputs": [],
   "source": [
    "\n",
    "\n",
    "# This step involves creating a Flask API to serve the model for making predictions.\n",
    "\n",
    "from flask import Flask, request, jsonify\n",
    "\n",
    "# Load the model\n",
    "with open(model_file, 'rb') as file:\n",
    "    model = pickle.load(file)\n",
    "    \n",
    "# Initialize the Flask application\n",
    "app = Flask(__name__)\n",
    "\n",
    "# Define a route for the prediction function\n",
    "@app.route('/predict', methods=['POST'])\n",
    "def predict():\n",
    "    # Get the JSON data from the request\n",
    "    data = request.get_json()\n",
    "    \n",
    "    # Convert the JSON data to a DataFrame\n",
    "    data_df = pd.DataFrame(data)\n",
    "    \n",
    "    # Preprocess the data\n",
    "    data_df, _, _ = preprocess_data(data_df)\n",
    "    \n",
    "    # Create new features\n",
    "    data_df = create_features(data_df)\n",
    "    \n",
    "    # Make predictions\n",
    "    predictions = model.predict(data_df)\n",
    "    \n",
    "    # Return the predictions as JSON\n",
    "    return jsonify(predictions.tolist())\n",
    "\n",
    "# Run the Flask application\n",
    "if __name__ == '__main__':\n",
    "    app.run(port=5000)\n",
    "\n",
    "\n",
    "# Conclusion\n",
    "\n",
    "# "
   ]
  },
  {
   "cell_type": "markdown",
   "metadata": {},
   "source": [
    "To test the API, you can use tools like Postman or cURL to send a POST request with the input data in JSON format to the URL http://localhost:5000/predict. The API will return the predicted head count as a JSON response.\n"
   ]
  },
  {
   "cell_type": "markdown",
   "metadata": {},
   "source": [
    "In this project, we generated a dummy dataset for reservation data, preprocessed the data, trained a machine learning model to predict head count, evaluated the model's performance, and created a Flask API to serve the model for making predictions. This project demonstrates the end-to-end process of building a machine learning model and deploying it as a web service using Flask. You can further enhance the model by tuning hyperparameters, trying different algorithms, and adding more features to improve its performance.\n"
   ]
  }
 ],
 "metadata": {
  "kernelspec": {
   "display_name": "Python 3",
   "language": "python",
   "name": "python3"
  },
  "language_info": {
   "codemirror_mode": {
    "name": "ipython",
    "version": 3
   },
   "file_extension": ".py",
   "mimetype": "text/x-python",
   "name": "python",
   "nbconvert_exporter": "python",
   "pygments_lexer": "ipython3",
   "version": "3.12.0"
  }
 },
 "nbformat": 4,
 "nbformat_minor": 2
}
