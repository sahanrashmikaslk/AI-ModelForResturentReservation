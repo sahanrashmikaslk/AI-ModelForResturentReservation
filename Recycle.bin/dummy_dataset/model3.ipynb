{
 "cells": [
  {
   "cell_type": "markdown",
   "metadata": {},
   "source": [
    "### Step 1: Load the Data\n",
    "Load the dummy data from the CSV file."
   ]
  },
  {
   "cell_type": "code",
   "execution_count": 2,
   "metadata": {},
   "outputs": [
    {
     "name": "stdout",
     "output_type": "stream",
     "text": [
      "   reservation_id  unit_id unit_type        date  head_count  host_user  \\\n",
      "0               1       67     type2  2023-07-01         128     930700   \n",
      "1               2       58     type1  2023-08-11          80     516551   \n",
      "2               3       38     type1  2023-05-14          42     465393   \n",
      "3               4       19     type2  2023-01-15          49     801761   \n",
      "4               5       70     type3  2023-05-13         107     216315   \n",
      "\n",
      "  option1  option2  prop_id   reserve_code  slot_length  slot_minutes  \\\n",
      "0    Seat      NaN       96  202301-1282-1           10            30   \n",
      "1    Seat      NaN       34  202301-1282-2           15            60   \n",
      "2     NaN      NaN       34  202301-1282-3           15            60   \n",
      "3    Seat      NaN       97  202301-1282-4           15            60   \n",
      "4     NaN      NaN        8  202301-1282-5           15            60   \n",
      "\n",
      "  special_req     status      time  time_slots  user_id  \n",
      "0   Confirmed    Pending  14:00:00           3     8496  \n",
      "1         NaN    Pending  09:00:00           3     5637  \n",
      "2   Confirmed  Cancelled  11:00:00           2     1185  \n",
      "3         NaN     Booked  11:00:00           3     6144  \n",
      "4   Confirmed    Pending  08:00:00           3     3940  \n"
     ]
    }
   ],
   "source": [
    "import pandas as pd\n",
    "\n",
    "# Load the dummy data\n",
    "dummy_df = pd.read_csv('dummy_reservations.csv')\n",
    "print(dummy_df.head())\n"
   ]
  },
  {
   "cell_type": "markdown",
   "metadata": {},
   "source": [
    "#### Columns description:\n",
    "- resevstion_id: Unique identifier for the reservation\n",
    "- unit_id: Unique identifier for the table\n",
    "- unit_type: Type of the table\n",
    "- date: Date of the reservation\n",
    "- head_count: Number of people in the reservation\n",
    "- host_user: Unique identifier for the host\n",
    "- option1: Option 1\n",
    "- option2: Option 2\n",
    "- prop_id: Unique identifier for the property\n",
    "- reserve_code: Reservation code\n",
    "- slot_minutes: Slot minutes\n",
    "- special_req: Special request\n",
    "- status: Status of the reservation\n",
    "- time: Time of the reservation\n",
    "- time_slots: Time slots\n",
    "- user_id: Unique identifier for the user"
   ]
  },
  {
   "cell_type": "code",
   "execution_count": 5,
   "metadata": {},
   "outputs": [
    {
     "data": {
      "text/plain": [
       "(500, 20)"
      ]
     },
     "execution_count": 5,
     "metadata": {},
     "output_type": "execute_result"
    }
   ],
   "source": [
    "dummy_df.shape"
   ]
  },
  {
   "cell_type": "code",
   "execution_count": 7,
   "metadata": {},
   "outputs": [
    {
     "data": {
      "text/plain": [
       "reservation_id             int64\n",
       "unit_id                    int64\n",
       "unit_type                  int32\n",
       "date              datetime64[ns]\n",
       "head_count                 int64\n",
       "host_user                  int64\n",
       "option1                    int32\n",
       "option2                  float64\n",
       "prop_id                    int64\n",
       "reserve_code              object\n",
       "slot_length                int64\n",
       "slot_minutes               int64\n",
       "special_req                int32\n",
       "status                     int32\n",
       "time                      object\n",
       "time_slots                 int64\n",
       "user_id                    int64\n",
       "day                        int32\n",
       "month                      int32\n",
       "hour                       int32\n",
       "dtype: object"
      ]
     },
     "execution_count": 7,
     "metadata": {},
     "output_type": "execute_result"
    }
   ],
   "source": [
    "dummy_df.dtypes #checking the data types"
   ]
  },
  {
   "cell_type": "code",
   "execution_count": 9,
   "metadata": {},
   "outputs": [
    {
     "data": {
      "text/plain": [
       "reservation_id      0\n",
       "unit_id             0\n",
       "unit_type           0\n",
       "date                0\n",
       "head_count          0\n",
       "host_user           0\n",
       "option1             0\n",
       "option2           500\n",
       "prop_id             0\n",
       "reserve_code        0\n",
       "slot_length         0\n",
       "slot_minutes        0\n",
       "special_req         0\n",
       "status              0\n",
       "time                0\n",
       "time_slots          0\n",
       "user_id             0\n",
       "day                 0\n",
       "month               0\n",
       "hour                0\n",
       "dtype: int64"
      ]
     },
     "execution_count": 9,
     "metadata": {},
     "output_type": "execute_result"
    }
   ],
   "source": [
    "dummy_df.isna().sum() #Checking null values"
   ]
  },
  {
   "cell_type": "code",
   "execution_count": null,
   "metadata": {},
   "outputs": [],
   "source": [
    "#Deleting Unnnecessary Columns\n",
    "#dropping column like \"option1\"\n",
    "\n"
   ]
  },
  {
   "cell_type": "markdown",
   "metadata": {},
   "source": [
    "### Step 2: Preprocess the Data\n",
    "This step includes converting date and time columns to the appropriate formats, extracting new features from them, and encoding categorical variables."
   ]
  },
  {
   "cell_type": "code",
   "execution_count": 3,
   "metadata": {},
   "outputs": [
    {
     "name": "stdout",
     "output_type": "stream",
     "text": [
      "   reservation_id  unit_id  unit_type       date  head_count  host_user  \\\n",
      "0               1       67          1 2023-07-01         128     930700   \n",
      "1               2       58          0 2023-08-11          80     516551   \n",
      "2               3       38          0 2023-05-14          42     465393   \n",
      "3               4       19          1 2023-01-15          49     801761   \n",
      "4               5       70          2 2023-05-13         107     216315   \n",
      "\n",
      "   option1  option2  prop_id   reserve_code  slot_length  slot_minutes  \\\n",
      "0        0      NaN       96  202301-1282-1           10            30   \n",
      "1        0      NaN       34  202301-1282-2           15            60   \n",
      "2        1      NaN       34  202301-1282-3           15            60   \n",
      "3        0      NaN       97  202301-1282-4           15            60   \n",
      "4        1      NaN        8  202301-1282-5           15            60   \n",
      "\n",
      "   special_req  status      time  time_slots  user_id  day  month  hour  \n",
      "0            1       2  14:00:00           3     8496    1      7    14  \n",
      "1            3       2  09:00:00           3     5637   11      8     9  \n",
      "2            1       1  11:00:00           2     1185   14      5    11  \n",
      "3            3       0  11:00:00           3     6144   15      1    11  \n",
      "4            1       2  08:00:00           3     3940   13      5     8  \n"
     ]
    }
   ],
   "source": [
    "from sklearn.preprocessing import LabelEncoder\n",
    "\n",
    "def preprocess_data(df):\n",
    "    # Convert date and time to datetime\n",
    "    df['date'] = pd.to_datetime(df['date'])\n",
    "    df['time'] = pd.to_datetime(df['time'], format='%H:%M:%S').dt.time\n",
    "    \n",
    "    # Extract features from date and time\n",
    "    df['day'] = df['date'].dt.day\n",
    "    df['month'] = df['date'].dt.month\n",
    "    df['hour'] = pd.to_datetime(df['time'], format='%H:%M:%S').dt.hour\n",
    "    \n",
    "    # Encode categorical variables\n",
    "    le_unit_type = LabelEncoder()\n",
    "    df['unit_type'] = le_unit_type.fit_transform(df['unit_type'])\n",
    "    \n",
    "    le_special_req = LabelEncoder()\n",
    "    df['special_req'] = le_special_req.fit_transform(df['special_req'])\n",
    "    \n",
    "    le_status = LabelEncoder()\n",
    "    df['status'] = le_status.fit_transform(df['status'])\n",
    "    \n",
    "    le_option1 = LabelEncoder()\n",
    "    df['option1'] = le_option1.fit_transform(df['option1'])\n",
    "    \n",
    "    return df, le_unit_type, le_special_req, le_status, le_option1\n",
    "\n",
    "# Preprocess data\n",
    "dummy_df, le_unit_type, le_special_req, le_status, le_option1 = preprocess_data(dummy_df)\n",
    "print(dummy_df.head())\n"
   ]
  }
 ],
 "metadata": {
  "kernelspec": {
   "display_name": "Python 3",
   "language": "python",
   "name": "python3"
  },
  "language_info": {
   "codemirror_mode": {
    "name": "ipython",
    "version": 3
   },
   "file_extension": ".py",
   "mimetype": "text/x-python",
   "name": "python",
   "nbconvert_exporter": "python",
   "pygments_lexer": "ipython3",
   "version": "3.12.0"
  }
 },
 "nbformat": 4,
 "nbformat_minor": 2
}
