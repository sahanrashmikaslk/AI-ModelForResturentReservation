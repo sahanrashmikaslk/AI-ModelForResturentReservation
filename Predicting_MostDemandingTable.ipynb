{
 "cells": [
  {
   "cell_type": "markdown",
   "metadata": {},
   "source": [
    "# To create an AI model for predicting moset demanding table at a given date and time\n",
    "\n",
    "### Step 1: Create Dummy Data\n",
    "\n",
    "Reservation Table Schema:\n",
    "\n",
    "- resevstion_id: Unique identifier for the reservation\n",
    "- unit_id: Unique identifier for the table\n",
    "- unit_type: Type of the table\n",
    "- date: Date of the reservation\n",
    "- head_count: Number of people in the reservation\n",
    "- host_user: Unique identifier for the host\n",
    "- option1: Option 1\n",
    "- option2: Option 2\n",
    "- prop_id: Unique identifier for the property\n",
    "- reserve_code: Reservation code\n",
    "- slot_minutes: Slot minutes\n",
    "- special_req: Special request\n",
    "- status: Status of the reservation\n",
    "- time: Time of the reservation\n",
    "- time_slots: Time slots\n",
    "- user_id: Unique identifier for the user\n"
   ]
  },
  {
   "cell_type": "code",
   "execution_count": 1,
   "metadata": {},
   "outputs": [
    {
     "name": "stdout",
     "output_type": "stream",
     "text": [
      "Dummy dataset generated and saved to 'dummy_reservations.csv'\n",
      "   reservation_id  unit_id unit_type       date  head_count  host_user  \\\n",
      "0               1       64     type2 2023-03-31         131     276401   \n",
      "1               2       43     type4 2023-04-14           2     837456   \n",
      "2               3       38     type1 2023-11-04          70     293182   \n",
      "3               4       47     type1 2023-08-28          43     711696   \n",
      "4               5       10     type1 2023-05-17          84     127060   \n",
      "\n",
      "  option1 option2  prop_id  reserve_code  slot_length  slot_minutes  \\\n",
      "0    None    None       66             1           15            30   \n",
      "1    None    None       75             2           10            60   \n",
      "2    None    None       23             4           10            90   \n",
      "3    None    None       39             3           20            90   \n",
      "4    None    None       85             2           10            30   \n",
      "\n",
      "  special_req     status      time  time_slots  user_id  \n",
      "0     Pending    Pending  13:00:00           3     5314  \n",
      "1      Booked  Cancelled  11:00:00           3     7791  \n",
      "2     Pending     Booked  21:00:00           2     6869  \n",
      "3     Pending    Pending  13:00:00           1     8328  \n",
      "4     Pending     Booked  21:00:00           3     9955  \n"
     ]
    }
   ],
   "source": [
    "import pandas as pd\n",
    "import numpy as np\n",
    "from datetime import datetime, timedelta\n",
    "import random\n",
    "\n",
    "# Number of rows for the dummy dataset\n",
    "num_rows = 100\n",
    "\n",
    "# Generate random dates within a specific range\n",
    "start_date = datetime(2023, 1, 1)\n",
    "end_date = start_date + timedelta(days=365)\n",
    "date_range = pd.date_range(start_date, end_date).to_pydatetime().tolist()\n",
    "\n",
    "# Generate random times\n",
    "time_range = pd.date_range(\"08:00\", \"21:00\", freq=\"H\").time\n",
    "\n",
    "dummy_data = {\n",
    "    'reservation_id': np.arange(1, num_rows + 1),\n",
    "    'unit_id': np.random.randint(1, 100, size=num_rows),\n",
    "    'unit_type': np.random.choice(['type1', 'type2', 'type3', 'type4'], size=num_rows),\n",
    "    'date': np.random.choice(date_range, size=num_rows),\n",
    "    'head_count': np.random.randint(1, 150, size=num_rows),\n",
    "    'host_user': np.random.randint(100000, 999999, size=num_rows),\n",
    "    'option1': [None] * num_rows,\n",
    "    'option2': [None] * num_rows,\n",
    "    'prop_id': np.random.randint(1, 100, size=num_rows),\n",
    "    'reserve_code': np.random.randint(1, 5, size=num_rows),\n",
    "    'slot_length': np.random.choice([10, 15, 20], size=num_rows),\n",
    "    'slot_minutes': np.random.choice([30, 60, 90], size=num_rows),\n",
    "    'special_req': np.random.choice(['None', 'Confirmed', 'Pending', 'Booked'], size=num_rows),\n",
    "    'status': np.random.choice(['Booked', 'Pending', 'Cancelled'], size=num_rows),\n",
    "    'time': [random.choice(time_range) for _ in range(num_rows)],\n",
    "    'time_slots': np.random.choice([1, 2, 3], size=num_rows),\n",
    "    'user_id': np.random.randint(1000, 9999, size=num_rows)\n",
    "}\n",
    "\n",
    "# Create a DataFrame\n",
    "dummy_df = pd.DataFrame(dummy_data)\n",
    "\n",
    "# Save the DataFrame to a CSV file\n",
    "dummy_df.to_csv('dummy_reservations.csv', index=False)\n",
    "\n",
    "print(\"Dummy dataset generated and saved to 'dummy_reservations.csv'\")\n",
    "print(dummy_df.head())\n"
   ]
  },
  {
   "cell_type": "markdown",
   "metadata": {},
   "source": [
    "### Step 2: Create AI Model Using Reservation Table\n"
   ]
  },
  {
   "cell_type": "code",
   "execution_count": 2,
   "metadata": {},
   "outputs": [
    {
     "name": "stdout",
     "output_type": "stream",
     "text": [
      "   reservation_id  unit_id unit_type        date  head_count  host_user  \\\n",
      "0               1       64     type2  2023-03-31         131     276401   \n",
      "1               2       43     type4  2023-04-14           2     837456   \n",
      "2               3       38     type1  2023-11-04          70     293182   \n",
      "3               4       47     type1  2023-08-28          43     711696   \n",
      "4               5       10     type1  2023-05-17          84     127060   \n",
      "\n",
      "   option1  option2  prop_id  reserve_code  slot_length  slot_minutes  \\\n",
      "0      NaN      NaN       66             1           15            30   \n",
      "1      NaN      NaN       75             2           10            60   \n",
      "2      NaN      NaN       23             4           10            90   \n",
      "3      NaN      NaN       39             3           20            90   \n",
      "4      NaN      NaN       85             2           10            30   \n",
      "\n",
      "  special_req     status      time  time_slots  user_id  \n",
      "0     Pending    Pending  13:00:00           3     5314  \n",
      "1      Booked  Cancelled  11:00:00           3     7791  \n",
      "2     Pending     Booked  21:00:00           2     6869  \n",
      "3     Pending    Pending  13:00:00           1     8328  \n",
      "4     Pending     Booked  21:00:00           3     9955  \n"
     ]
    }
   ],
   "source": [
    "# Step 1: Load the Data\n",
    "# Load the dummy data from the CSV file.\n",
    "\n",
    "dummy_df = pd.read_csv('dummy_reservations.csv')\n",
    "print(dummy_df.head())\n"
   ]
  },
  {
   "cell_type": "code",
   "execution_count": 3,
   "metadata": {},
   "outputs": [
    {
     "data": {
      "text/plain": [
       "(100, 17)"
      ]
     },
     "execution_count": 3,
     "metadata": {},
     "output_type": "execute_result"
    }
   ],
   "source": [
    "dummy_df.shape"
   ]
  },
  {
   "cell_type": "code",
   "execution_count": 4,
   "metadata": {},
   "outputs": [
    {
     "data": {
      "text/plain": [
       "reservation_id      0\n",
       "unit_id             0\n",
       "unit_type           0\n",
       "date                0\n",
       "head_count          0\n",
       "host_user           0\n",
       "option1           100\n",
       "option2           100\n",
       "prop_id             0\n",
       "reserve_code        0\n",
       "slot_length         0\n",
       "slot_minutes        0\n",
       "special_req        27\n",
       "status              0\n",
       "time                0\n",
       "time_slots          0\n",
       "user_id             0\n",
       "dtype: int64"
      ]
     },
     "execution_count": 4,
     "metadata": {},
     "output_type": "execute_result"
    }
   ],
   "source": [
    "#Step 2: data preprocessing\n",
    "# Check for missing values in the dataset.\n",
    "\n",
    "dummy_df.isnull().sum()"
   ]
  },
  {
   "cell_type": "code",
   "execution_count": 5,
   "metadata": {},
   "outputs": [
    {
     "data": {
      "text/plain": [
       "<Axes: >"
      ]
     },
     "execution_count": 5,
     "metadata": {},
     "output_type": "execute_result"
    },
    {
     "data": {
      "image/png": "[encoded data removed]",
      "text/plain": [
       "<Figure size 640x480 with 1 Axes>"
      ]
     },
     "metadata": {},
     "output_type": "display_data"
    }
   ],
   "source": [
    "import seaborn as sns\n",
    "sns.heatmap(dummy_df.isnull(), cbar=False)"
   ]
  },
  {
   "cell_type": "code",
   "execution_count": 6,
   "metadata": {},
   "outputs": [],
   "source": [
    "# drop the columns with missing values\n",
    "dummy_df = dummy_df.dropna(axis=1)\n",
    "\n"
   ]
  },
  {
   "cell_type": "code",
   "execution_count": 7,
   "metadata": {},
   "outputs": [
    {
     "data": {
      "text/plain": [
       "<Axes: >"
      ]
     },
     "execution_count": 7,
     "metadata": {},
     "output_type": "execute_result"
    },
    {
     "data": {
      "image/png": "[encoded data removed]",
      "text/plain": [
       "<Figure size 640x480 with 1 Axes>"
      ]
     },
     "metadata": {},
     "output_type": "display_data"
    }
   ],
   "source": [
    "sns.heatmap(dummy_df.isnull(), cbar=False)\n"
   ]
  },
  {
   "cell_type": "code",
   "execution_count": 8,
   "metadata": {},
   "outputs": [
    {
     "name": "stdout",
     "output_type": "stream",
     "text": [
      "Empty DataFrame\n",
      "Columns: [reservation_id, unit_id, unit_type, date, head_count, host_user, prop_id, reserve_code, slot_length, slot_minutes, status, time, time_slots, user_id]\n",
      "Index: []\n"
     ]
    }
   ],
   "source": [
    "# Check for duplicate rows in the dataset.\n",
    "\n",
    "duplicate_rows = dummy_df[dummy_df.duplicated()]\n",
    "print(duplicate_rows)\n"
   ]
  },
  {
   "cell_type": "code",
   "execution_count": 9,
   "metadata": {},
   "outputs": [
    {
     "data": {
      "text/plain": [
       "reservation_id    0\n",
       "unit_id           0\n",
       "unit_type         0\n",
       "date              0\n",
       "head_count        0\n",
       "host_user         0\n",
       "prop_id           0\n",
       "reserve_code      0\n",
       "slot_length       0\n",
       "slot_minutes      0\n",
       "status            0\n",
       "time              0\n",
       "time_slots        0\n",
       "user_id           0\n",
       "dtype: int64"
      ]
     },
     "execution_count": 9,
     "metadata": {},
     "output_type": "execute_result"
    }
   ],
   "source": [
    "# Check for any missing values in the dataset.\n",
    "\n",
    "dummy_df.isnull().sum()\n"
   ]
  },
  {
   "cell_type": "code",
   "execution_count": 10,
   "metadata": {},
   "outputs": [
    {
     "data": {
      "text/plain": [
       "reservation_id     int64\n",
       "unit_id            int64\n",
       "unit_type         object\n",
       "date              object\n",
       "head_count         int64\n",
       "host_user          int64\n",
       "prop_id            int64\n",
       "reserve_code       int64\n",
       "slot_length        int64\n",
       "slot_minutes       int64\n",
       "status            object\n",
       "time              object\n",
       "time_slots         int64\n",
       "user_id            int64\n",
       "dtype: object"
      ]
     },
     "execution_count": 10,
     "metadata": {},
     "output_type": "execute_result"
    }
   ],
   "source": [
    "# Check the data types of the columns in the dataset.\n",
    "\n",
    "dummy_df.dtypes\n"
   ]
  },
  {
   "cell_type": "code",
   "execution_count": 11,
   "metadata": {},
   "outputs": [
    {
     "data": {
      "text/html": [
       "<div>\n",
       "<style scoped>\n",
       "    .dataframe tbody tr th:only-of-type {\n",
       "        vertical-align: middle;\n",
       "    }\n",
       "\n",
       "    .dataframe tbody tr th {\n",
       "        vertical-align: top;\n",
       "    }\n",
       "\n",
       "    .dataframe thead th {\n",
       "        text-align: right;\n",
       "    }\n",
       "</style>\n",
       "<table border=\"1\" class=\"dataframe\">\n",
       "  <thead>\n",
       "    <tr style=\"text-align: right;\">\n",
       "      <th></th>\n",
       "      <th>reservation_id</th>\n",
       "      <th>unit_id</th>\n",
       "      <th>unit_type</th>\n",
       "      <th>date</th>\n",
       "      <th>head_count</th>\n",
       "      <th>host_user</th>\n",
       "      <th>prop_id</th>\n",
       "      <th>reserve_code</th>\n",
       "      <th>slot_length</th>\n",
       "      <th>slot_minutes</th>\n",
       "      <th>status</th>\n",
       "      <th>time</th>\n",
       "      <th>time_slots</th>\n",
       "      <th>user_id</th>\n",
       "    </tr>\n",
       "  </thead>\n",
       "  <tbody>\n",
       "    <tr>\n",
       "      <th>0</th>\n",
       "      <td>1</td>\n",
       "      <td>64</td>\n",
       "      <td>type2</td>\n",
       "      <td>2023-03-31</td>\n",
       "      <td>131</td>\n",
       "      <td>276401</td>\n",
       "      <td>66</td>\n",
       "      <td>1</td>\n",
       "      <td>15</td>\n",
       "      <td>30</td>\n",
       "      <td>Pending</td>\n",
       "      <td>13:00:00</td>\n",
       "      <td>3</td>\n",
       "      <td>5314</td>\n",
       "    </tr>\n",
       "    <tr>\n",
       "      <th>1</th>\n",
       "      <td>2</td>\n",
       "      <td>43</td>\n",
       "      <td>type4</td>\n",
       "      <td>2023-04-14</td>\n",
       "      <td>2</td>\n",
       "      <td>837456</td>\n",
       "      <td>75</td>\n",
       "      <td>2</td>\n",
       "      <td>10</td>\n",
       "      <td>60</td>\n",
       "      <td>Cancelled</td>\n",
       "      <td>11:00:00</td>\n",
       "      <td>3</td>\n",
       "      <td>7791</td>\n",
       "    </tr>\n",
       "    <tr>\n",
       "      <th>2</th>\n",
       "      <td>3</td>\n",
       "      <td>38</td>\n",
       "      <td>type1</td>\n",
       "      <td>2023-11-04</td>\n",
       "      <td>70</td>\n",
       "      <td>293182</td>\n",
       "      <td>23</td>\n",
       "      <td>4</td>\n",
       "      <td>10</td>\n",
       "      <td>90</td>\n",
       "      <td>Booked</td>\n",
       "      <td>21:00:00</td>\n",
       "      <td>2</td>\n",
       "      <td>6869</td>\n",
       "    </tr>\n",
       "    <tr>\n",
       "      <th>3</th>\n",
       "      <td>4</td>\n",
       "      <td>47</td>\n",
       "      <td>type1</td>\n",
       "      <td>2023-08-28</td>\n",
       "      <td>43</td>\n",
       "      <td>711696</td>\n",
       "      <td>39</td>\n",
       "      <td>3</td>\n",
       "      <td>20</td>\n",
       "      <td>90</td>\n",
       "      <td>Pending</td>\n",
       "      <td>13:00:00</td>\n",
       "      <td>1</td>\n",
       "      <td>8328</td>\n",
       "    </tr>\n",
       "    <tr>\n",
       "      <th>4</th>\n",
       "      <td>5</td>\n",
       "      <td>10</td>\n",
       "      <td>type1</td>\n",
       "      <td>2023-05-17</td>\n",
       "      <td>84</td>\n",
       "      <td>127060</td>\n",
       "      <td>85</td>\n",
       "      <td>2</td>\n",
       "      <td>10</td>\n",
       "      <td>30</td>\n",
       "      <td>Booked</td>\n",
       "      <td>21:00:00</td>\n",
       "      <td>3</td>\n",
       "      <td>9955</td>\n",
       "    </tr>\n",
       "  </tbody>\n",
       "</table>\n",
       "</div>"
      ],
      "text/plain": [
       "   reservation_id  unit_id unit_type        date  head_count  host_user  \\\n",
       "0               1       64     type2  2023-03-31         131     276401   \n",
       "1               2       43     type4  2023-04-14           2     837456   \n",
       "2               3       38     type1  2023-11-04          70     293182   \n",
       "3               4       47     type1  2023-08-28          43     711696   \n",
       "4               5       10     type1  2023-05-17          84     127060   \n",
       "\n",
       "   prop_id  reserve_code  slot_length  slot_minutes     status      time  \\\n",
       "0       66             1           15            30    Pending  13:00:00   \n",
       "1       75             2           10            60  Cancelled  11:00:00   \n",
       "2       23             4           10            90     Booked  21:00:00   \n",
       "3       39             3           20            90    Pending  13:00:00   \n",
       "4       85             2           10            30     Booked  21:00:00   \n",
       "\n",
       "   time_slots  user_id  \n",
       "0           3     5314  \n",
       "1           3     7791  \n",
       "2           2     6869  \n",
       "3           1     8328  \n",
       "4           3     9955  "
      ]
     },
     "execution_count": 11,
     "metadata": {},
     "output_type": "execute_result"
    }
   ],
   "source": [
    "# Display the first few rows of the dataset.\n",
    "\n",
    "dummy_df.head()\n"
   ]
  },
  {
   "cell_type": "code",
   "execution_count": 24,
   "metadata": {},
   "outputs": [
    {
     "name": "stdout",
     "output_type": "stream",
     "text": [
      "   reservation_id  unit_id  unit_type       date  head_count  host_user  \\\n",
      "0               1        0          1 2023-03-31         131     276401   \n",
      "1               2        0          3 2023-04-14           2     837456   \n",
      "2               3        0          0 2023-11-04          70     293182   \n",
      "3               4        0          0 2023-08-28          43     711696   \n",
      "4               5        0          0 2023-05-17          84     127060   \n",
      "\n",
      "   prop_id  reserve_code  slot_length  slot_minutes  status      time  \\\n",
      "0       66             1           15            30       2  13:00:00   \n",
      "1       75             2           10            60       1  11:00:00   \n",
      "2       23             4           10            90       0  21:00:00   \n",
      "3       39             3           20            90       2  13:00:00   \n",
      "4       85             2           10            30       0  21:00:00   \n",
      "\n",
      "   time_slots  user_id  day  month  hour  total_slots  total_minutes  \\\n",
      "0           3     5314   31      3    13           45             90   \n",
      "1           3     7791   14      4    11           30            180   \n",
      "2           2     6869    4     11    21           20            180   \n",
      "3           1     8328   28      8    13           20             90   \n",
      "4           3     9955   17      5    21           30             90   \n",
      "\n",
      "   day_of_week  \n",
      "0            4  \n",
      "1            4  \n",
      "2            5  \n",
      "3            0  \n",
      "4            2  \n"
     ]
    }
   ],
   "source": [
    "# Step 3: Preprocess the Data\n",
    "\n",
    "# This step includes converting date and time columns to the appropriate formats, extracting new features from them, and encoding categorical variables.\n",
    "\n",
    "\n",
    "from sklearn.preprocessing import LabelEncoder\n",
    "\n",
    "def preprocess_data(df):\n",
    "    # Convert date and time to datetime\n",
    "    df['date'] = pd.to_datetime(df['date'])\n",
    "    df['time'] = pd.to_datetime(df['time'], format='%H:%M:%S').dt.time\n",
    "    \n",
    "    # Extract features from date and time\n",
    "    df['day'] = df['date'].dt.day\n",
    "    df['month'] = df['date'].dt.month\n",
    "    df['hour'] = pd.to_datetime(df['time'], format='%H:%M:%S').dt.hour\n",
    "    \n",
    "    # Encode categorical variables\n",
    "    le_unit_type = LabelEncoder()\n",
    "    df['unit_type'] = le_unit_type.fit_transform(df['unit_type'])\n",
    "\n",
    "    le_unit_id = LabelEncoder()\n",
    "    df['unit_id'] = le_unit_type.fit_transform(df['unit_id'])\n",
    "    \n",
    "    le_status = LabelEncoder()\n",
    "    df['status'] = le_status.fit_transform(df['status'])\n",
    "    \n",
    "\n",
    "    \n",
    "    return df, le_unit_type, le_unit_id, le_status\n",
    "\n",
    "# Preprocess data\n",
    "dummy_df, le_unit_type, le_unit_id, le_status = preprocess_data(dummy_df)\n",
    "print(dummy_df.head())\n",
    "\n",
    "\n",
    "\n",
    "\n",
    "\n",
    "\n",
    "\n"
   ]
  },
  {
   "cell_type": "code",
   "execution_count": 25,
   "metadata": {},
   "outputs": [
    {
     "name": "stdout",
     "output_type": "stream",
     "text": [
      "   reservation_id  unit_id  unit_type       date  head_count  host_user  \\\n",
      "0               1        0          1 2023-03-31         131     276401   \n",
      "1               2        0          3 2023-04-14           2     837456   \n",
      "2               3        0          0 2023-11-04          70     293182   \n",
      "3               4        0          0 2023-08-28          43     711696   \n",
      "4               5        0          0 2023-05-17          84     127060   \n",
      "\n",
      "   prop_id  reserve_code  slot_length  slot_minutes  status      time  \\\n",
      "0       66             1           15            30       2  13:00:00   \n",
      "1       75             2           10            60       1  11:00:00   \n",
      "2       23             4           10            90       0  21:00:00   \n",
      "3       39             3           20            90       2  13:00:00   \n",
      "4       85             2           10            30       0  21:00:00   \n",
      "\n",
      "   time_slots  user_id  day  month  hour  total_slots  total_minutes  \\\n",
      "0           3     5314   31      3    13           45             90   \n",
      "1           3     7791   14      4    11           30            180   \n",
      "2           2     6869    4     11    21           20            180   \n",
      "3           1     8328   28      8    13           20             90   \n",
      "4           3     9955   17      5    21           30             90   \n",
      "\n",
      "   day_of_week  \n",
      "0            4  \n",
      "1            4  \n",
      "2            5  \n",
      "3            0  \n",
      "4            2  \n"
     ]
    }
   ],
   "source": [
    "# Step 4: Feature Engineering\n",
    "\n",
    "# This step involves creating new features from the existing ones to improve the model's performance.\n",
    "\n",
    "def create_features(df):\n",
    "    # Create a new feature 'total_slots' by multiplying 'time_slots' and 'slot_length'\n",
    "    df['total_slots'] = df['time_slots'] * df['slot_length']\n",
    "    \n",
    "    # Create a new feature 'total_minutes' by multiplying 'time_slots' and 'slot_minutes'\n",
    "    df['total_minutes'] = df['time_slots'] * df['slot_minutes']\n",
    "\n",
    "    # need to get the day of the week\n",
    "    df['day_of_week'] = df['date'].dt.dayofweek\n",
    "\n",
    "    return df\n",
    "\n",
    "# Create new features\n",
    "dummy_df = create_features(dummy_df)\n",
    "print(dummy_df.head())\n"
   ]
  },
  {
   "cell_type": "code",
   "execution_count": 26,
   "metadata": {},
   "outputs": [
    {
     "name": "stdout",
     "output_type": "stream",
     "text": [
      "Training set shape: (80, 15) (80,)\n",
      "Testing set shape: (20, 15) (20,)\n"
     ]
    }
   ],
   "source": [
    "# Step 5: Split the Data\n",
    "\n",
    "# This step involves splitting the dataset into training and testing sets.\n",
    "\n",
    "from sklearn.model_selection import train_test_split\n",
    "\n",
    "# Split the data into features and target variable\n",
    "\n",
    "x_demand_table = dummy_df[['unit_type', 'head_count', 'host_user', 'prop_id', 'reserve_code', 'slot_length', 'slot_minutes', 'time_slots', 'user_id', 'day', 'month', 'hour', 'total_slots', 'total_minutes', 'day_of_week']]\n",
    "y_demand_table = dummy_df['unit_id']  #unit_id is the table that we want to predict\n",
    "\n",
    "# Split the data into training and testing sets\n",
    "x_train, x_test, y_train, y_test = train_test_split(x_demand_table, y_demand_table, test_size=0.2, random_state=42)\n",
    "\n",
    "print(\"Training set shape:\", x_train.shape, y_train.shape)\n",
    "print(\"Testing set shape:\", x_test.shape, y_test.shape)\n",
    "\n"
   ]
  },
  {
   "cell_type": "code",
   "execution_count": 18,
   "metadata": {},
   "outputs": [
    {
     "data": {
      "text/html": [
       "<style>#sk-container-id-1 {color: black;}#sk-container-id-1 pre{padding: 0;}#sk-container-id-1 div.sk-toggleable {background-color: white;}#sk-container-id-1 label.sk-toggleable__label {cursor: pointer;display: block;width: 100%;margin-bottom: 0;padding: 0.3em;box-sizing: border-box;text-align: center;}#sk-container-id-1 label.sk-toggleable__label-arrow:before {content: \"▸\";float: left;margin-right: 0.25em;color: #696969;}#sk-container-id-1 label.sk-toggleable__label-arrow:hover:before {color: black;}#sk-container-id-1 div.sk-estimator:hover label.sk-toggleable__label-arrow:before {color: black;}#sk-container-id-1 div.sk-toggleable__content {max-height: 0;max-width: 0;overflow: hidden;text-align: left;background-color: #f0f8ff;}#sk-container-id-1 div.sk-toggleable__content pre {margin: 0.2em;color: black;border-radius: 0.25em;background-color: #f0f8ff;}#sk-container-id-1 input.sk-toggleable__control:checked~div.sk-toggleable__content {max-height: 200px;max-width: 100%;overflow: auto;}#sk-container-id-1 input.sk-toggleable__control:checked~label.sk-toggleable__label-arrow:before {content: \"▾\";}#sk-container-id-1 div.sk-estimator input.sk-toggleable__control:checked~label.sk-toggleable__label {background-color: #d4ebff;}#sk-container-id-1 div.sk-label input.sk-toggleable__control:checked~label.sk-toggleable__label {background-color: #d4ebff;}#sk-container-id-1 input.sk-hidden--visually {border: 0;clip: rect(1px 1px 1px 1px);clip: rect(1px, 1px, 1px, 1px);height: 1px;margin: -1px;overflow: hidden;padding: 0;position: absolute;width: 1px;}#sk-container-id-1 div.sk-estimator {font-family: monospace;background-color: #f0f8ff;border: 1px dotted black;border-radius: 0.25em;box-sizing: border-box;margin-bottom: 0.5em;}#sk-container-id-1 div.sk-estimator:hover {background-color: #d4ebff;}#sk-container-id-1 div.sk-parallel-item::after {content: \"\";width: 100%;border-bottom: 1px solid gray;flex-grow: 1;}#sk-container-id-1 div.sk-label:hover label.sk-toggleable__label {background-color: #d4ebff;}#sk-container-id-1 div.sk-serial::before {content: \"\";position: absolute;border-left: 1px solid gray;box-sizing: border-box;top: 0;bottom: 0;left: 50%;z-index: 0;}#sk-container-id-1 div.sk-serial {display: flex;flex-direction: column;align-items: center;background-color: white;padding-right: 0.2em;padding-left: 0.2em;position: relative;}#sk-container-id-1 div.sk-item {position: relative;z-index: 1;}#sk-container-id-1 div.sk-parallel {display: flex;align-items: stretch;justify-content: center;background-color: white;position: relative;}#sk-container-id-1 div.sk-item::before, #sk-container-id-1 div.sk-parallel-item::before {content: \"\";position: absolute;border-left: 1px solid gray;box-sizing: border-box;top: 0;bottom: 0;left: 50%;z-index: -1;}#sk-container-id-1 div.sk-parallel-item {display: flex;flex-direction: column;z-index: 1;position: relative;background-color: white;}#sk-container-id-1 div.sk-parallel-item:first-child::after {align-self: flex-end;width: 50%;}#sk-container-id-1 div.sk-parallel-item:last-child::after {align-self: flex-start;width: 50%;}#sk-container-id-1 div.sk-parallel-item:only-child::after {width: 0;}#sk-container-id-1 div.sk-dashed-wrapped {border: 1px dashed gray;margin: 0 0.4em 0.5em 0.4em;box-sizing: border-box;padding-bottom: 0.4em;background-color: white;}#sk-container-id-1 div.sk-label label {font-family: monospace;font-weight: bold;display: inline-block;line-height: 1.2em;}#sk-container-id-1 div.sk-label-container {text-align: center;}#sk-container-id-1 div.sk-container {/* jupyter's `normalize.less` sets `[hidden] { display: none; }` but bootstrap.min.css set `[hidden] { display: none !important; }` so we also need the `!important` here to be able to override the default hidden behavior on the sphinx rendered scikit-learn.org. See: https://github.com/scikit-learn/scikit-learn/issues/21755 */display: inline-block !important;position: relative;}#sk-container-id-1 div.sk-text-repr-fallback {display: none;}</style><div id=\"sk-container-id-1\" class=\"sk-top-container\"><div class=\"sk-text-repr-fallback\"><pre>RandomForestRegressor(random_state=42)</pre><b>In a Jupyter environment, please rerun this cell to show the HTML representation or trust the notebook. <br />On GitHub, the HTML representation is unable to render, please try loading this page with nbviewer.org.</b></div><div class=\"sk-container\" hidden><div class=\"sk-item\"><div class=\"sk-estimator sk-toggleable\"><input class=\"sk-toggleable__control sk-hidden--visually\" id=\"sk-estimator-id-1\" type=\"checkbox\" checked><label for=\"sk-estimator-id-1\" class=\"sk-toggleable__label sk-toggleable__label-arrow\">RandomForestRegressor</label><div class=\"sk-toggleable__content\"><pre>RandomForestRegressor(random_state=42)</pre></div></div></div></div></div>"
      ],
      "text/plain": [
       "RandomForestRegressor(random_state=42)"
      ]
     },
     "execution_count": 18,
     "metadata": {},
     "output_type": "execute_result"
    }
   ],
   "source": [
    "# Step 6: Train a Model (Random Forest Regressor)\n",
    "\n",
    "# This step involves training a machine learning model on the training data.\n",
    "\n",
    "from sklearn.ensemble import RandomForestRegressor\n",
    "\n",
    "# Initialize the Random Forest Regressor\n",
    "rf_model = RandomForestRegressor(n_estimators=100, random_state=42)\n",
    "\n",
    "# Train the model\n",
    "rf_model.fit(x_train, y_train)\n"
   ]
  },
  {
   "cell_type": "code",
   "execution_count": 20,
   "metadata": {},
   "outputs": [
    {
     "name": "stdout",
     "output_type": "stream",
     "text": [
      "Accuracy Score (Testing Set): 0.0\n",
      "Accuracy Score (Training Set): 0.0375\n",
      "Confusion Matrix (Testing Set):\n",
      "[[0 0 0 0 0 0 1 0 0 0 0 0 0 0 0 0 0 0 0 0 0 0 0 0 0 0 0]\n",
      " [0 0 0 0 0 0 0 0 0 0 0 0 0 0 0 0 0 0 0 1 0 0 0 0 0 0 0]\n",
      " [0 0 0 0 0 0 0 0 0 0 0 0 0 0 0 1 0 0 0 0 0 0 0 0 0 0 0]\n",
      " [0 0 0 0 0 0 0 0 0 0 0 0 0 1 0 0 0 0 0 0 0 0 0 0 0 0 0]\n",
      " [0 0 0 0 0 0 0 0 0 1 0 0 0 0 0 0 0 0 0 0 0 0 0 0 0 0 0]\n",
      " [0 0 0 0 0 0 0 0 0 0 0 0 0 0 0 0 0 0 0 0 0 0 0 1 0 0 0]\n",
      " [0 0 0 0 0 0 0 0 0 0 0 0 0 0 0 0 0 0 0 0 0 0 0 0 0 0 0]\n",
      " [0 0 0 0 0 0 0 0 0 0 0 0 0 0 0 0 0 0 0 0 0 0 1 0 0 0 0]\n",
      " [0 0 0 0 0 0 0 0 0 0 0 0 0 0 0 0 0 0 0 0 0 0 0 0 0 0 0]\n",
      " [0 0 0 0 0 0 0 0 0 0 1 0 0 0 0 0 0 0 0 0 0 0 0 0 0 0 0]\n",
      " [0 0 0 0 0 1 0 0 0 0 0 0 0 0 0 0 0 0 0 0 0 0 0 0 0 0 0]\n",
      " [0 0 0 0 0 0 0 0 0 0 0 0 0 0 0 0 0 0 0 0 0 0 0 0 0 0 0]\n",
      " [0 0 0 0 0 0 0 0 0 0 0 0 0 0 0 0 0 0 0 0 0 0 0 0 0 0 0]\n",
      " [0 0 0 0 0 0 0 0 0 0 0 1 0 0 0 0 0 0 0 0 0 0 0 0 0 0 0]\n",
      " [0 0 0 0 0 0 0 0 0 0 0 0 0 0 0 0 0 0 0 0 0 0 0 0 1 0 0]\n",
      " [0 0 0 0 0 0 0 0 0 0 0 0 0 0 0 0 0 0 0 0 0 0 0 0 0 0 0]\n",
      " [0 0 0 0 0 0 0 0 0 0 0 0 0 0 0 0 0 0 0 0 0 0 0 0 0 0 0]\n",
      " [0 0 0 0 0 0 0 0 0 0 0 0 0 0 0 0 0 0 0 0 0 0 0 0 0 0 0]\n",
      " [0 0 0 0 0 0 0 0 0 0 0 0 0 0 0 0 0 0 0 0 0 0 0 0 0 0 0]\n",
      " [0 0 0 0 0 0 0 0 0 0 0 0 0 0 0 0 1 0 0 0 0 0 0 0 0 0 0]\n",
      " [0 0 0 0 0 0 0 0 0 0 0 0 0 0 0 0 0 0 0 0 0 0 0 0 0 0 0]\n",
      " [0 0 0 0 0 1 0 0 0 0 0 0 1 0 0 0 0 0 1 0 0 0 0 0 0 0 0]\n",
      " [0 0 0 0 0 0 0 0 0 0 0 0 0 0 0 1 0 0 0 0 0 0 0 0 0 0 0]\n",
      " [0 0 0 0 0 0 0 0 0 0 0 0 0 0 0 0 0 1 0 0 0 0 0 0 0 0 0]\n",
      " [0 0 0 0 0 0 0 0 0 0 0 0 0 0 0 0 0 0 0 0 0 0 0 0 0 0 0]\n",
      " [0 0 0 0 0 0 0 0 1 0 0 0 0 0 0 0 0 0 0 0 0 0 0 0 0 0 0]\n",
      " [0 0 0 0 0 0 0 0 0 1 0 0 0 0 0 0 0 0 0 0 1 0 0 0 0 0 0]]\n",
      "Confusion Matrix (Training Set):\n",
      "[[0 0 0 ... 0 0 0]\n",
      " [0 0 0 ... 0 0 0]\n",
      " [0 0 0 ... 0 0 0]\n",
      " ...\n",
      " [0 0 0 ... 0 0 0]\n",
      " [0 0 0 ... 0 0 0]\n",
      " [0 0 0 ... 0 0 0]]\n"
     ]
    }
   ],
   "source": [
    "# # Step 7: Predict the Demand\n",
    "\n",
    "# # This step involves using the trained model to predict the demand for the testing set.\n",
    "\n",
    "# # Predict the demand for the testing set\n",
    "# y_test = y_test.astype(int)\n",
    "# y_pred = rf_model.predict(x_test).astype(int)\n",
    "\n",
    "# #Confusion Matrix and Accuracy Score\n",
    "# from sklearn.metrics import confusion_matrix, accuracy_score\n",
    "\n",
    "# y_train = y_train.astype(int)\n",
    "# y_pred_train = rf_model.predict(x_train).astype(int)\n",
    "\n",
    "# # Calculate the accuracy score\n",
    "# accuracy = accuracy_score(y_test, y_pred)\n",
    "# accuracy_train = accuracy_score(y_train, y_pred_train)\n",
    "\n",
    "# print(\"Accuracy Score (Testing Set):\", accuracy)\n",
    "# print(\"Accuracy Score (Training Set):\", accuracy_train)\n",
    "\n",
    "\n",
    "# # Calculate the confusion matrix\n",
    "# conf_matrix = confusion_matrix(y_test, y_pred)\n",
    "# conf_matrix_train = confusion_matrix(y_train, y_pred_train)\n",
    "\n",
    "# print(\"Confusion Matrix (Testing Set):\")\n",
    "# print(conf_matrix)\n",
    "# print(\"Confusion Matrix (Training Set):\")\n",
    "# print(conf_matrix_train)\n",
    "\n",
    "\n"
   ]
  },
  {
   "cell_type": "markdown",
   "metadata": {},
   "source": [
    "### Step 3: Evaluate the Model\n"
   ]
  },
  {
   "cell_type": "code",
   "execution_count": 21,
   "metadata": {},
   "outputs": [
    {
     "name": "stdout",
     "output_type": "stream",
     "text": [
      "Mean Absolute Error (MAE): 19.789499999999997\n",
      "Mean Squared Error (MSE): 574.2153950000001\n",
      "R-squared Value: -0.21981432425542757\n"
     ]
    }
   ],
   "source": [
    "# Step 8: Evaluate the Model\n",
    "\n",
    "# This step involves evaluating the model's performance using various metrics such as Mean Absolute Error (MAE), Mean Squared Error (MSE), and R-squared.\n",
    "\n",
    "from sklearn.metrics import mean_absolute_error, mean_squared_error, r2_score\n",
    "\n",
    "# Predict the demand for the testing set\n",
    "y_pred = rf_model.predict(x_test)\n",
    "\n",
    "# Calculate the Mean Absolute Error (MAE)\n",
    "mae = mean_absolute_error(y_test, y_pred)\n",
    "\n",
    "# Calculate the Mean Squared Error (MSE)\n",
    "mse = mean_squared_error(y_test, y_pred)\n",
    "\n",
    "# Calculate the R-squared value\n",
    "r2 = r2_score(y_test, y_pred)\n",
    "\n",
    "print(\"Mean Absolute Error (MAE):\", mae)\n",
    "print(\"Mean Squared Error (MSE):\", mse)\n",
    "print(\"R-squared Value:\", r2)\n",
    "\n"
   ]
  },
  {
   "cell_type": "markdown",
   "metadata": {},
   "source": [
    "### Step 3: Make Predictions\n"
   ]
  },
  {
   "cell_type": "code",
   "execution_count": 22,
   "metadata": {},
   "outputs": [
    {
     "ename": "NameError",
     "evalue": "name 'unit_id' is not defined",
     "output_type": "error",
     "traceback": [
      "\u001b[1;31m---------------------------------------------------------------------------\u001b[0m",
      "\u001b[1;31mNameError\u001b[0m                                 Traceback (most recent call last)",
      "Cell \u001b[1;32mIn[22], line 43\u001b[0m\n\u001b[0;32m     41\u001b[0m time \u001b[38;5;241m=\u001b[39m \u001b[38;5;124m'\u001b[39m\u001b[38;5;124m12:00:00\u001b[39m\u001b[38;5;124m'\u001b[39m\n\u001b[0;32m     42\u001b[0m head_count \u001b[38;5;241m=\u001b[39m predict_demanding_table(date, time)\n\u001b[1;32m---> 43\u001b[0m \u001b[38;5;28mprint\u001b[39m(\u001b[38;5;124m\"\u001b[39m\u001b[38;5;124mPredicted Demanding table:\u001b[39m\u001b[38;5;124m\"\u001b[39m, \u001b[43munit_id\u001b[49m)\n",
      "\u001b[1;31mNameError\u001b[0m: name 'unit_id' is not defined"
     ]
    }
   ],
   "source": [
    "# Create a function to predict the demand for a given date and time\n",
    "\n",
    "def predict_demanding_table(date, time):\n",
    "    # Convert date and time to the appropriate format\n",
    "    date = pd.to_datetime(date)\n",
    "    time = pd.to_datetime(time, format='%H:%M:%S').time()\n",
    "    \n",
    "    # Extract features from date and time\n",
    "    day = date.day\n",
    "    month = date.month\n",
    "    hour = pd.to_datetime(time, format='%H:%M:%S').hour\n",
    "    day_of_week = date.dayofweek\n",
    "    \n",
    "    # Create a DataFrame with the input features\n",
    "    input_data = pd.DataFrame({\n",
    "        'unit_type': [le_unit_type.transform(['type1'])[0]],\n",
    "        'head_count': [50],\n",
    "        'host_user': [123456],\n",
    "        'prop_id': [10],\n",
    "        'reserve_code': [1],\n",
    "        'slot_length': [15],\n",
    "        'slot_minutes': [30],\n",
    "        'time_slots': [2],\n",
    "        'user_id': [1234],\n",
    "        'day': [day],\n",
    "        'month': [month],\n",
    "        'hour': [hour],\n",
    "        'total_slots': [30],\n",
    "        'total_minutes': [60],\n",
    "        'day_of_week': [day_of_week]\n",
    "    })\n",
    "\n",
    "    # Predict the demanded table\n",
    "    unit_id = rf_model.predict(input_data)[0]\n",
    "\n",
    "    return unit_id\n",
    "\n",
    "# Predict the demanding table for a given date and time\n",
    "\n",
    "date = '2023-07-15'\n",
    "time = '12:00:00'\n",
    "head_count = predict_demanding_table(date, time)\n",
    "print(\"Predicted Demanding table:\", unit_id)"
   ]
  },
  {
   "cell_type": "markdown",
   "metadata": {},
   "source": [
    "### Step 3: Save the Model as a Pickle File\n"
   ]
  },
  {
   "cell_type": "markdown",
   "metadata": {},
   "source": [
    "### Step 4: Creating flask API\n"
   ]
  },
  {
   "cell_type": "markdown",
   "metadata": {},
   "source": [
    "To test the API, you can use tools like Postman or cURL to send a POST request with the input data in JSON format to the URL http://localhost:5000/predict. The API will return the predicted head count as a JSON response.\n"
   ]
  },
  {
   "cell_type": "markdown",
   "metadata": {},
   "source": [
    "In this project, we generated a dummy dataset for reservation data, preprocessed the data, trained a machine learning model to predict head count, evaluated the model's performance, and created a Flask API to serve the model for making predictions. This project demonstrates the end-to-end process of building a machine learning model and deploying it as a web service using Flask. You can further enhance the model by tuning hyperparameters, trying different algorithms, and adding more features to improve its performance.\n"
   ]
  }
 ],
 "metadata": {
  "kernelspec": {
   "display_name": "Python 3",
   "language": "python",
   "name": "python3"
  },
  "language_info": {
   "codemirror_mode": {
    "name": "ipython",
    "version": 3
   },
   "file_extension": ".py",
   "mimetype": "text/x-python",
   "name": "python",
   "nbconvert_exporter": "python",
   "pygments_lexer": "ipython3",
   "version": "3.12.0"
  }
 },
 "nbformat": 4,
 "nbformat_minor": 2
}
